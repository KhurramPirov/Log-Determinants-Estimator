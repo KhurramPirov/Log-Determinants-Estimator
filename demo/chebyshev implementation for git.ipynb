{
 "cells": [
  {
   "cell_type": "code",
   "execution_count": 21,
   "metadata": {},
   "outputs": [],
   "source": [
    "from __future__ import print_function\n",
    "import torch"
   ]
  },
  {
   "cell_type": "markdown",
   "metadata": {},
   "source": [
    "### Chebyshev check for random matrix the accuracy by chebyshev"
   ]
  },
  {
   "cell_type": "code",
   "execution_count": 66,
   "metadata": {},
   "outputs": [],
   "source": [
    "import numpy as np\n",
    "import scipy\n",
    "import scipy as sp\n",
    "import scipy.sparse\n",
    "from scipy.sparse.linalg import spsolve\n",
    "from scipy.sparse import csr_matrix\n",
    "from scipy.sparse import eye"
   ]
  },
  {
   "cell_type": "markdown",
   "metadata": {},
   "source": [
    "### finding maximum and minimum singular value"
   ]
  },
  {
   "cell_type": "code",
   "execution_count": 67,
   "metadata": {},
   "outputs": [],
   "source": [
    "A=torch.rand(10,10)\n",
    "#A=torch.eye(100,100)\n",
    "K=torch.matmul(A,A.t())\n",
    "K_nump=K.numpy()\n",
    "n=K_nump.shape[0]\n",
    "#K_nump = np.random.randn(n, n)\n",
    "#K_nump = K_nump.dot(K_nump.T)"
   ]
  },
  {
   "cell_type": "code",
   "execution_count": 68,
   "metadata": {},
   "outputs": [
    {
     "data": {
      "text/plain": [
       "74.8549747525757"
      ]
     },
     "execution_count": 68,
     "metadata": {},
     "output_type": "execute_result"
    }
   ],
   "source": [
    "K_nump.dot(x0).T.dot(x0)[0][0]"
   ]
  },
  {
   "cell_type": "code",
   "execution_count": 69,
   "metadata": {},
   "outputs": [],
   "source": [
    "x0=np.random.rand(n,1)"
   ]
  },
  {
   "cell_type": "code",
   "execution_count": 70,
   "metadata": {},
   "outputs": [],
   "source": [
    "u,s1,v=np.linalg.svd(K_nump)\n",
    "eigs, vect=np.linalg.eig(K_nump)\n",
    "lmax=max(eigs)\n",
    "lmin=min(eigs)"
   ]
  },
  {
   "cell_type": "code",
   "execution_count": 71,
   "metadata": {},
   "outputs": [
    {
     "name": "stdout",
     "output_type": "stream",
     "text": [
      "0.0088985795 26.814516\n",
      "0.0088985795 26.814516\n"
     ]
    }
   ],
   "source": [
    "print(s1[-1],s1[0])\n",
    "print(lmin, lmax)"
   ]
  },
  {
   "cell_type": "code",
   "execution_count": 72,
   "metadata": {},
   "outputs": [],
   "source": [
    "if (np.abs(lmin)<=1)and(np.abs(lmax)<=1):\n",
    "    B=K_nump\n",
    "    alpha=1\n",
    "else:\n",
    "    shift=0.1\n",
    "    alpha=(lmax-lmin)/(lmax+lmin)+shift\n",
    "    beta=(lmax+lmin)/2\n",
    "    B=K_nump/(beta*alpha)-np.eye(n)/alpha"
   ]
  },
  {
   "cell_type": "code",
   "execution_count": 73,
   "metadata": {},
   "outputs": [],
   "source": [
    "eigs_b, vect_b=np.linalg.eig(B)"
   ]
  },
  {
   "cell_type": "code",
   "execution_count": 84,
   "metadata": {},
   "outputs": [
    {
     "data": {
      "text/plain": [
       "array([ 0.90903614, -0.75588396, -0.78334812, -0.82582327, -0.84433711,\n",
       "       -0.8603915 , -0.88881048, -0.90192128, -0.90903601, -0.90795984])"
      ]
     },
     "execution_count": 84,
     "metadata": {},
     "output_type": "execute_result"
    }
   ],
   "source": [
    "eigs_b"
   ]
  },
  {
   "cell_type": "code",
   "execution_count": 74,
   "metadata": {},
   "outputs": [],
   "source": [
    "def T_cheb(m):\n",
    "    if m==0:\n",
    "        return 1\n",
    "    else:\n",
    "        c = np.zeros(m+1)\n",
    "        c[m] = 1\n",
    "        coef_ = np.polynomial.chebyshev.Chebyshev(c)\n",
    "        return coef_\n",
    "    \n",
    "def roots(m):\n",
    "    if m==0:\n",
    "        return 1\n",
    "    else:\n",
    "        c = np.zeros(m+1)\n",
    "        c[m] = 1\n",
    "        roots = np.polynomial.chebyshev.chebroots(c)\n",
    "        return roots\n",
    "m = 100\n",
    "root_cheb = roots(m+1)"
   ]
  },
  {
   "cell_type": "code",
   "execution_count": 75,
   "metadata": {},
   "outputs": [
    {
     "name": "stdout",
     "output_type": "stream",
     "text": [
      "1.0993365406990052\n"
     ]
    }
   ],
   "source": [
    "print(alpha)\n",
    "x=root_cheb\n",
    "y=np.log(1+(alpha-shift)*x)"
   ]
  },
  {
   "cell_type": "code",
   "execution_count": 76,
   "metadata": {},
   "outputs": [],
   "source": [
    "s,log_det=np.linalg.slogdet(np.eye(n)+(alpha-shift)*B)"
   ]
  },
  {
   "cell_type": "code",
   "execution_count": 77,
   "metadata": {},
   "outputs": [
    {
     "data": {
      "text/plain": [
       "-17.131513333535487"
      ]
     },
     "execution_count": 77,
     "metadata": {},
     "output_type": "execute_result"
    }
   ],
   "source": [
    "log_det"
   ]
  },
  {
   "cell_type": "code",
   "execution_count": 78,
   "metadata": {},
   "outputs": [],
   "source": [
    "coef=np.polynomial.chebyshev.chebfit(x, y,m)"
   ]
  },
  {
   "cell_type": "code",
   "execution_count": 79,
   "metadata": {},
   "outputs": [],
   "source": [
    "log_det=0\n",
    "batch_size=100\n",
    "for i in range(batch_size):\n",
    "    z=np.random.uniform(-1,1,(B.shape[0],1))\n",
    "    z=z/np.linalg.norm(z)\n",
    "    w=np.zeros((z.shape[0],m+1))\n",
    "    w[:,0]=z.reshape(z.shape[0])\n",
    "    w[:,1]=B.dot(z).reshape(z.shape[0])\n",
    "    for j in range(2,m+1):\n",
    "        w[:,j]=2*B.dot(w[:,j-1])-w[:,j-2]\n",
    "    log_det+=z.T.dot(w).dot(coef)\n",
    "        \n",
    "log_det=log_det/batch_size "
   ]
  },
  {
   "cell_type": "code",
   "execution_count": 80,
   "metadata": {},
   "outputs": [
    {
     "data": {
      "text/plain": [
       "array([-16.87430692])"
      ]
     },
     "execution_count": 80,
     "metadata": {},
     "output_type": "execute_result"
    }
   ],
   "source": [
    "n*log_det#+n*np.log(beta)"
   ]
  }
 ],
 "metadata": {
  "kernelspec": {
   "display_name": "Python 3",
   "language": "python",
   "name": "python3"
  },
  "language_info": {
   "codemirror_mode": {
    "name": "ipython",
    "version": 3
   },
   "file_extension": ".py",
   "mimetype": "text/x-python",
   "name": "python",
   "nbconvert_exporter": "python",
   "pygments_lexer": "ipython3",
   "version": "3.6.5"
  }
 },
 "nbformat": 4,
 "nbformat_minor": 2
}
